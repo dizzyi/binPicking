{
 "cells": [
  {
   "cell_type": "code",
   "execution_count": 1,
   "id": "eb245494",
   "metadata": {},
   "outputs": [],
   "source": [
    "import json"
   ]
  },
  {
   "cell_type": "code",
   "execution_count": 2,
   "id": "2f94b5da",
   "metadata": {},
   "outputs": [],
   "source": [
    "# The modified category, stripe all useless classes\n",
    "# TODO: change it to real modified category\n",
    "modified_category = [\n",
    " {'supercategory': 'indoor', 'id': 84, 'name': 'book'},\n",
    " {'supercategory': 'indoor', 'id': 85, 'name': 'clock'},\n",
    " {'supercategory': 'indoor', 'id': 86, 'name': 'vase'},\n",
    " {'supercategory': 'indoor', 'id': 87, 'name': 'scissors'},\n",
    " {'supercategory': 'indoor', 'id': 88, 'name': 'teddy bear'},\n",
    " {'supercategory': 'indoor', 'id': 89, 'name': 'hair drier'},\n",
    " {'supercategory': 'indoor', 'id': 90, 'name': 'toothbrush'}\n",
    "]\n",
    "with open(f\"./modified_category.json\", 'w') as f:\n",
    "    json.dump(modified_category,f)"
   ]
  },
  {
   "cell_type": "code",
   "execution_count": 3,
   "id": "bab1716b",
   "metadata": {},
   "outputs": [],
   "source": [
    "## data's directory\n",
    "DATA_ROOT            = './coco'\n",
    "PREPROCESS_DATA_ROOT = './coco'"
   ]
  },
  {
   "cell_type": "code",
   "execution_count": 4,
   "id": "2ee597db",
   "metadata": {},
   "outputs": [],
   "source": [
    "with open(f\"{DATA_ROOT}/instances_val2017.json\") as f:\n",
    "    data = json.load(f)"
   ]
  },
  {
   "cell_type": "code",
   "execution_count": 5,
   "id": "91abb0ae",
   "metadata": {},
   "outputs": [],
   "source": [
    "#data['annotations']"
   ]
  },
  {
   "cell_type": "code",
   "execution_count": 6,
   "id": "7ada02ba",
   "metadata": {
    "scrolled": true
   },
   "outputs": [],
   "source": [
    "#data['categories']"
   ]
  },
  {
   "cell_type": "code",
   "execution_count": 7,
   "id": "a43e5d5b",
   "metadata": {},
   "outputs": [],
   "source": [
    "data['categories'] = modified_category\n",
    "#data['categories'] "
   ]
  },
  {
   "cell_type": "code",
   "execution_count": 8,
   "id": "1ea86c39",
   "metadata": {},
   "outputs": [],
   "source": [
    "S = set()\n",
    "for cat in modified_category:\n",
    "    S.add(cat['id'])\n",
    "    #print(f'{cat[\"id\"]} is added to the set')"
   ]
  },
  {
   "cell_type": "code",
   "execution_count": 9,
   "id": "f3f16c20",
   "metadata": {},
   "outputs": [],
   "source": [
    "data['annotations'] = list(filter( lambda anno: S.__contains__(anno['category_id']) ,data['annotations']))\n",
    "#data['annotations']"
   ]
  },
  {
   "cell_type": "code",
   "execution_count": 10,
   "id": "4e4c00f1",
   "metadata": {},
   "outputs": [],
   "source": [
    "with open(f\"{PREPROCESS_DATA_ROOT}/modified_train2017.json\", 'w') as f:\n",
    "    json.dump(data,f)"
   ]
  }
 ],
 "metadata": {
  "kernelspec": {
   "display_name": "Python 3",
   "language": "python",
   "name": "python3"
  },
  "language_info": {
   "codemirror_mode": {
    "name": "ipython",
    "version": 3
   },
   "file_extension": ".py",
   "mimetype": "text/x-python",
   "name": "python",
   "nbconvert_exporter": "python",
   "pygments_lexer": "ipython3",
   "version": "3.8.10"
  }
 },
 "nbformat": 4,
 "nbformat_minor": 5
}
