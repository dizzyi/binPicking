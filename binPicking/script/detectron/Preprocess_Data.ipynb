{
 "cells": [
  {
   "cell_type": "code",
   "execution_count": 1,
   "id": "eb245494",
   "metadata": {},
   "outputs": [],
   "source": [
    "import json"
   ]
  },
  {
   "cell_type": "code",
   "execution_count": 2,
   "id": "2f94b5da",
   "metadata": {},
   "outputs": [],
   "source": [
    "# The modified category, stripe all useless classes\n",
    "# TODO: change it to real modified category\n",
    "modified_categories = [\n",
    "    {\"supercategory\": \"vehicle\"   ,\"id\": 5,\"name\": \"airplane\"},\n",
    "    {\"supercategory\": \"accessory\" ,\"id\": 32,\"name\": \"tie\"},\n",
    "    {\"supercategory\": \"sports\"    ,\"id\": 37,\"name\": \"sports ball\"},\n",
    "    {\"supercategory\": \"kitchen\"   ,\"id\": 44,\"name\": \"bottle\"},\n",
    "    {\"supercategory\": \"kitchen\"   ,\"id\": 46,\"name\": \"wine glass\"},\n",
    "    {\"supercategory\": \"kitchen\"   ,\"id\": 47,\"name\": \"cup\"},\n",
    "    {\"supercategory\": \"kitchen\"   ,\"id\": 48,\"name\": \"fork\"},\n",
    "    {\"supercategory\": \"kitchen\"   ,\"id\": 49,\"name\": \"knife\"},\n",
    "    {\"supercategory\": \"kitchen\"   ,\"id\": 50,\"name\": \"spoon\"},\n",
    "    {\"supercategory\": \"kitchen\"   ,\"id\": 51,\"name\": \"bowl\"},\n",
    "    {\"supercategory\": \"food\"      ,\"id\": 52,\"name\": \"banana\"},\n",
    "    {\"supercategory\": \"food\"      ,\"id\": 53,\"name\": \"apple\"},\n",
    "    {\"supercategory\": \"food\"      ,\"id\": 55,\"name\": \"orange\"},\n",
    "    {\"supercategory\": \"food\"      ,\"id\": 56,\"name\": \"broccoli\"},\n",
    "    {\"supercategory\": \"food\"      ,\"id\": 57,\"name\": \"carrot\"},\n",
    "    {\"supercategory\": \"electronic\",\"id\": 74,\"name\": \"mouse\"},\n",
    "    {\"supercategory\": \"electronic\",\"id\": 75,\"name\": \"remote\"},\n",
    "    {\"supercategory\": \"indoor\"    ,\"id\": 84,\"name\": \"book\"},\n",
    "    {\"supercategory\": \"indoor\"    ,\"id\": 87,\"name\": \"scissors\"},\n",
    "    {\"supercategory\": \"indoor\"    ,\"id\": 90,\"name\": \"toothbrush\"}\n",
    "    ]\n",
    "with open(f\"./modified_categories.json\", 'w') as f:\n",
    "    json.dump(modified_categories,f)"
   ]
  },
  {
   "cell_type": "code",
   "execution_count": 3,
   "id": "a779256c",
   "metadata": {},
   "outputs": [],
   "source": [
    "## data's directory\n",
    "DATA_ROOT            = './coco'\n",
    "PREPROCESS_DATA_ROOT = './coco'"
   ]
  },
  {
   "cell_type": "code",
   "execution_count": 4,
   "id": "2ee597db",
   "metadata": {},
   "outputs": [
    {
     "ename": "FileNotFoundError",
     "evalue": "[Errno 2] No such file or directory: './coco/instances_val2017.json'",
     "output_type": "error",
     "traceback": [
      "\u001b[0;31m---------------------------------------------------------------------------\u001b[0m",
      "\u001b[0;31mFileNotFoundError\u001b[0m                         Traceback (most recent call last)",
      "\u001b[0;32m<ipython-input-4-5500304141b7>\u001b[0m in \u001b[0;36m<module>\u001b[0;34m\u001b[0m\n\u001b[0;32m----> 1\u001b[0;31m \u001b[0;32mwith\u001b[0m \u001b[0mopen\u001b[0m\u001b[0;34m(\u001b[0m\u001b[0;34mf\"{DATA_ROOT}/instances_val2017.json\"\u001b[0m\u001b[0;34m)\u001b[0m \u001b[0;32mas\u001b[0m \u001b[0mf\u001b[0m\u001b[0;34m:\u001b[0m\u001b[0;34m\u001b[0m\u001b[0;34m\u001b[0m\u001b[0m\n\u001b[0m\u001b[1;32m      2\u001b[0m     \u001b[0mdata\u001b[0m \u001b[0;34m=\u001b[0m \u001b[0mjson\u001b[0m\u001b[0;34m.\u001b[0m\u001b[0mload\u001b[0m\u001b[0;34m(\u001b[0m\u001b[0mf\u001b[0m\u001b[0;34m)\u001b[0m\u001b[0;34m\u001b[0m\u001b[0;34m\u001b[0m\u001b[0m\n",
      "\u001b[0;31mFileNotFoundError\u001b[0m: [Errno 2] No such file or directory: './coco/instances_val2017.json'"
     ]
    }
   ],
   "source": [
    "with open(f\"{DATA_ROOT}/instances_val2017.json\") as f:\n",
    "    data = json.load(f)"
   ]
  },
  {
   "cell_type": "code",
   "execution_count": null,
   "id": "91abb0ae",
   "metadata": {},
   "outputs": [],
   "source": [
    "#data['annotations']"
   ]
  },
  {
   "cell_type": "code",
   "execution_count": null,
   "id": "7ada02ba",
   "metadata": {
    "scrolled": true
   },
   "outputs": [],
   "source": [
    "#data['categories']"
   ]
  },
  {
   "cell_type": "code",
   "execution_count": null,
   "id": "a43e5d5b",
   "metadata": {},
   "outputs": [],
   "source": [
    "data['categories'] = modified_categories\n",
    "#data['categories'] "
   ]
  },
  {
   "cell_type": "code",
   "execution_count": null,
   "id": "1ea86c39",
   "metadata": {},
   "outputs": [],
   "source": [
    "S = set()\n",
    "for cat in modified_categories:\n",
    "    S.add(cat['id'])\n",
    "    #print(f'{cat[\"id\"]} is added to the set')"
   ]
  },
  {
   "cell_type": "code",
   "execution_count": null,
   "id": "f3f16c20",
   "metadata": {},
   "outputs": [],
   "source": [
    "data['annotations'] = list(filter( lambda anno: S.__contains__(anno['category_id']) ,data['annotations']))\n",
    "#data['annotations']"
   ]
  },
  {
   "cell_type": "code",
   "execution_count": null,
   "id": "4e4c00f1",
   "metadata": {},
   "outputs": [],
   "source": [
    "with open(f\"{PREPROCESS_DATA_ROOT}/modified_train2017.json\", 'w') as f:\n",
    "    json.dump(data,f)"
   ]
  }
 ],
 "metadata": {
  "kernelspec": {
   "display_name": "Python 3",
   "language": "python",
   "name": "python3"
  },
  "language_info": {
   "codemirror_mode": {
    "name": "ipython",
    "version": 3
   },
   "file_extension": ".py",
   "mimetype": "text/x-python",
   "name": "python",
   "nbconvert_exporter": "python",
   "pygments_lexer": "ipython3",
   "version": "3.8.10"
  }
 },
 "nbformat": 4,
 "nbformat_minor": 5
}
