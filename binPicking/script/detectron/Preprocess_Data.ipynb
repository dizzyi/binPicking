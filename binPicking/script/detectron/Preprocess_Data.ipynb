{
 "cells": [
  {
   "cell_type": "code",
   "execution_count": 1,
   "id": "eb245494",
   "metadata": {},
   "outputs": [],
   "source": [
    "import json, os"
   ]
  },
  {
   "cell_type": "code",
   "execution_count": 2,
   "id": "2f94b5da",
   "metadata": {},
   "outputs": [],
   "source": [
    "# The modified category, stripe all useless classes\n",
    "# TODO: change it to real modified category\n",
    "modified_categories = [\n",
    "    {\"supercategory\": \"vehicle\"   ,\"id\": 5,\"name\": \"airplane\"},\n",
    "    {\"supercategory\": \"accessory\" ,\"id\": 32,\"name\": \"tie\"},\n",
    "    {\"supercategory\": \"sports\"    ,\"id\": 37,\"name\": \"sports ball\"},\n",
    "    {\"supercategory\": \"kitchen\"   ,\"id\": 44,\"name\": \"bottle\"},\n",
    "    {\"supercategory\": \"kitchen\"   ,\"id\": 46,\"name\": \"wine glass\"},\n",
    "    {\"supercategory\": \"kitchen\"   ,\"id\": 47,\"name\": \"cup\"},\n",
    "    {\"supercategory\": \"kitchen\"   ,\"id\": 48,\"name\": \"fork\"},\n",
    "    {\"supercategory\": \"kitchen\"   ,\"id\": 49,\"name\": \"knife\"},\n",
    "    {\"supercategory\": \"kitchen\"   ,\"id\": 50,\"name\": \"spoon\"},\n",
    "    {\"supercategory\": \"kitchen\"   ,\"id\": 51,\"name\": \"bowl\"},\n",
    "    {\"supercategory\": \"food\"      ,\"id\": 52,\"name\": \"banana\"},\n",
    "    {\"supercategory\": \"food\"      ,\"id\": 53,\"name\": \"apple\"},\n",
    "    {\"supercategory\": \"food\"      ,\"id\": 55,\"name\": \"orange\"},\n",
    "    {\"supercategory\": \"food\"      ,\"id\": 56,\"name\": \"broccoli\"},\n",
    "    {\"supercategory\": \"food\"      ,\"id\": 57,\"name\": \"carrot\"},\n",
    "    {\"supercategory\": \"electronic\",\"id\": 74,\"name\": \"mouse\"},\n",
    "    {\"supercategory\": \"electronic\",\"id\": 75,\"name\": \"remote\"},\n",
    "    {\"supercategory\": \"indoor\"    ,\"id\": 84,\"name\": \"book\"},\n",
    "    {\"supercategory\": \"indoor\"    ,\"id\": 87,\"name\": \"scissors\"},\n",
    "    {\"supercategory\": \"indoor\"    ,\"id\": 90,\"name\": \"toothbrush\"}\n",
    "]\n",
    "with open(f\"./modified_categories.json\", 'w') as f:\n",
    "    json.dump(modified_categories,f)"
   ]
  },
  {
   "cell_type": "code",
   "execution_count": 3,
   "id": "9f9eb29c",
   "metadata": {},
   "outputs": [],
   "source": [
    "## data's directory\n",
    "DATA_ROOT              = './coco'\n",
    "PREPROCESSED_DATA_ROOT = './coco'"
   ]
  },
  {
   "cell_type": "code",
   "execution_count": 4,
   "id": "2ee597db",
   "metadata": {},
   "outputs": [],
   "source": [
    "with open(os.path.join(DATA_ROOT,\"instances_val2017.json\")) as f:\n",
    "    data = json.load(f)"
   ]
  },
  {
   "cell_type": "code",
   "execution_count": 5,
   "id": "91abb0ae",
   "metadata": {},
   "outputs": [],
   "source": [
    "#data['annotations']"
   ]
  },
  {
   "cell_type": "code",
   "execution_count": 6,
   "id": "7ada02ba",
   "metadata": {
    "scrolled": true
   },
   "outputs": [],
   "source": [
    "#data['categories']"
   ]
  },
  {
   "cell_type": "code",
   "execution_count": 7,
   "id": "a43e5d5b",
   "metadata": {},
   "outputs": [],
   "source": [
    "data['categories'] = modified_categories\n",
    "#data['categories'] "
   ]
  },
  {
   "cell_type": "code",
   "execution_count": 8,
   "id": "1ea86c39",
   "metadata": {},
   "outputs": [],
   "source": [
    "cats = [cat['id'] for cat in modified_categories]"
   ]
  },
  {
   "cell_type": "code",
   "execution_count": 9,
   "id": "f3f16c20",
   "metadata": {},
   "outputs": [],
   "source": [
    "data['annotations'] = list(filter( lambda anno: anno['category_id'] in cats ,data['annotations']))\n",
    "#data['annotations']"
   ]
  },
  {
   "cell_type": "code",
   "execution_count": 10,
   "id": "b945cd6a",
   "metadata": {},
   "outputs": [
    {
     "name": "stdout",
     "output_type": "stream",
     "text": [
      "5 142 True\n",
      "32 253 True\n",
      "37 262 True\n",
      "44 1024 True\n",
      "46 342 True\n",
      "47 898 True\n",
      "48 214 True\n",
      "49 325 True\n",
      "50 252 True\n",
      "51 625 True\n",
      "52 378 True\n",
      "53 238 True\n",
      "55 286 True\n",
      "56 315 True\n",
      "57 370 True\n",
      "74 105 True\n",
      "75 282 True\n",
      "84 1160 True\n",
      "87 35 True\n",
      "90 56 True\n"
     ]
    }
   ],
   "source": [
    "## verification and count \n",
    "count = {}\n",
    "for anno in data['annotations']:\n",
    "    cat_id = anno['category_id']\n",
    "    if cat_id in count: count[cat_id] += 1\n",
    "    else:               count[cat_id] = 0\n",
    "        \n",
    "for k, v in sorted(count.items()): print(k, v, cat_id in cats)"
   ]
  },
  {
   "cell_type": "code",
   "execution_count": 11,
   "id": "4e4c00f1",
   "metadata": {},
   "outputs": [],
   "source": [
    "with open(os.path.join(PREPROCESSED_DATA_ROOT,\"modified_train2017.json\"), 'w') as f:\n",
    "    json.dump(data,f)"
   ]
  }
 ],
 "metadata": {
  "kernelspec": {
   "display_name": "Python 3",
   "language": "python",
   "name": "python3"
  },
  "language_info": {
   "codemirror_mode": {
    "name": "ipython",
    "version": 3
   },
   "file_extension": ".py",
   "mimetype": "text/x-python",
   "name": "python",
   "nbconvert_exporter": "python",
   "pygments_lexer": "ipython3",
   "version": "3.8.10"
  }
 },
 "nbformat": 4,
 "nbformat_minor": 5
}
