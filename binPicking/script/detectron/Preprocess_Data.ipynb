{
 "cells": [
  {
   "cell_type": "code",
   "execution_count": 1,
   "source": [
    "import json"
   ],
   "outputs": [],
   "metadata": {}
  },
  {
   "cell_type": "code",
   "execution_count": 2,
   "source": [
    "# The modified category, stripe all useless classes\n",
    "# TODO: change it to real modified category\n",
    "modified_category = [\n",
    " {'supercategory': 'indoor', 'id': 84, 'name': 'book'},\n",
    " {'supercategory': 'indoor', 'id': 85, 'name': 'clock'},\n",
    " {'supercategory': 'indoor', 'id': 86, 'name': 'vase'},\n",
    " {'supercategory': 'indoor', 'id': 87, 'name': 'scissors'},\n",
    " {'supercategory': 'indoor', 'id': 88, 'name': 'teddy bear'},\n",
    " {'supercategory': 'indoor', 'id': 89, 'name': 'hair drier'},\n",
    " {'supercategory': 'indoor', 'id': 90, 'name': 'toothbrush'}\n",
    "]\n",
    "with open(f\"./modified_category.json\", 'w') as f:\n",
    "    json.dump(modified_category,f)"
   ],
   "outputs": [],
   "metadata": {}
  },
  {
   "cell_type": "code",
   "execution_count": 3,
   "source": [
    "## data's directory\n",
    "DATA_ROOT            = './coco'\n",
    "PREPROCESS_DATA_ROOT = './coco'"
   ],
   "outputs": [],
   "metadata": {}
  },
  {
   "cell_type": "code",
   "execution_count": 4,
   "source": [
    "with open(f\"{DATA_ROOT}/instances_val2017.json\") as f:\n",
    "    data = json.load(f)"
   ],
   "outputs": [],
   "metadata": {}
  },
  {
   "cell_type": "code",
   "execution_count": 5,
   "source": [
    "#data['annotations']"
   ],
   "outputs": [],
   "metadata": {}
  },
  {
   "cell_type": "code",
   "execution_count": 6,
   "source": [
    "#data['categories']"
   ],
   "outputs": [],
   "metadata": {
    "scrolled": true
   }
  },
  {
   "cell_type": "code",
   "execution_count": 7,
   "source": [
    "data['categories'] = modified_category\n",
    "#data['categories'] "
   ],
   "outputs": [],
   "metadata": {}
  },
  {
   "cell_type": "code",
   "execution_count": 8,
   "source": [
    "S = set()\n",
    "for cat in modified_category:\n",
    "    S.add(cat['id'])\n",
    "    #print(f'{cat[\"id\"]} is added to the set')"
   ],
   "outputs": [],
   "metadata": {}
  },
  {
   "cell_type": "code",
   "execution_count": 9,
   "source": [
    "data['annotations'] = list(filter( lambda anno: S.__contains__(anno['category_id']) ,data['annotations']))\n",
    "#data['annotations']"
   ],
   "outputs": [],
   "metadata": {}
  },
  {
   "cell_type": "code",
   "execution_count": 10,
   "source": [
    "with open(f\"{PREPROCESS_DATA_ROOT}/modified_train2017.json\", 'w') as f:\n",
    "    json.dump(data,f)"
   ],
   "outputs": [],
   "metadata": {}
  }
 ],
 "metadata": {
  "kernelspec": {
   "display_name": "Python 3",
   "language": "python",
   "name": "python3"
  },
  "language_info": {
   "codemirror_mode": {
    "name": "ipython",
    "version": 3
   },
   "file_extension": ".py",
   "mimetype": "text/x-python",
   "name": "python",
   "nbconvert_exporter": "python",
   "pygments_lexer": "ipython3",
   "version": "3.8.10"
  }
 },
 "nbformat": 4,
 "nbformat_minor": 5
}